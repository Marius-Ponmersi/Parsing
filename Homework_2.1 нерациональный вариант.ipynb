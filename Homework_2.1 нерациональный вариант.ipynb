{
 "cells": [
  {
   "cell_type": "code",
   "execution_count": 1,
   "id": "df532305",
   "metadata": {},
   "outputs": [],
   "source": [
    "import requests\n",
    "from bs4 import BeautifulSoup as bs\n",
    "from pprint import pprint\n",
    "import re\n",
    "from unicodedata import normalize\n",
    "import pandas as pd\n",
    "import json"
   ]
  },
  {
   "cell_type": "code",
   "execution_count": 2,
   "id": "6a2556cd",
   "metadata": {},
   "outputs": [
    {
     "name": "stdout",
     "output_type": "stream",
     "text": [
      "Введите профессию: менеджер\n"
     ]
    }
   ],
   "source": [
    "job = input(\"Введите профессию: \").encode('utf-8')"
   ]
  },
  {
   "cell_type": "code",
   "execution_count": 3,
   "id": "61319dd9",
   "metadata": {},
   "outputs": [],
   "source": [
    "url = 'https://barnaul.hh.ru/search/vacancy'"
   ]
  },
  {
   "cell_type": "code",
   "execution_count": 4,
   "id": "e736a856",
   "metadata": {},
   "outputs": [],
   "source": [
    "page = 0"
   ]
  },
  {
   "cell_type": "code",
   "execution_count": 5,
   "id": "70d70bfe",
   "metadata": {},
   "outputs": [],
   "source": [
    "params = {'text': job,\n",
    "          'clusters': 'true',\n",
    "          'ored_clusters': 'true',\n",
    "          'enable_snippets': 'true',\n",
    "          'salary': '',\n",
    "          'page': page}\n",
    "\n",
    "headers = {'User-Agent': 'Mozilla/5.0 (Windows NT 10.0; Win64; x64) AppleWebKit/537.36 (KHTML, like Gecko) Chrome/94.0.4606.81 Safari/537.36'}"
   ]
  },
  {
   "cell_type": "code",
   "execution_count": 6,
   "id": "4c31a30e",
   "metadata": {},
   "outputs": [],
   "source": [
    "response = requests.get(url, params=params, headers=headers)"
   ]
  },
  {
   "cell_type": "code",
   "execution_count": 7,
   "id": "50fdd2fc",
   "metadata": {},
   "outputs": [],
   "source": [
    "dom = bs(response.text, 'html.parser')"
   ]
  },
  {
   "cell_type": "code",
   "execution_count": 8,
   "id": "b3d5918c",
   "metadata": {},
   "outputs": [],
   "source": [
    "vacantions = dom.find_all('a', {'class': 'bloko-link', 'data-qa': 'vacancy-serp__vacancy-title'})"
   ]
  },
  {
   "cell_type": "code",
   "execution_count": 9,
   "id": "56fedb69",
   "metadata": {},
   "outputs": [],
   "source": [
    "salaries = dom.find_all('span', {'data-qa': \"vacancy-serp__vacancy-compensation\"})"
   ]
  },
  {
   "cell_type": "code",
   "execution_count": 10,
   "id": "a0775662",
   "metadata": {},
   "outputs": [],
   "source": [
    "vacantion_list = []"
   ]
  },
  {
   "cell_type": "code",
   "execution_count": 11,
   "id": "c3e626b3",
   "metadata": {},
   "outputs": [],
   "source": [
    "if response.ok and vacantions:\n",
    "    for vacantion in vacantions:\n",
    "        vacantion_data = {}\n",
    "        link = vacantion['href']\n",
    "        name = vacantion.string\n",
    "        vacantion_data['name'] = name\n",
    "        vacantion_data['link'] = link\n",
    "        vacantion_list.append(vacantion_data)"
   ]
  },
  {
   "cell_type": "code",
   "execution_count": 12,
   "id": "829d6b84",
   "metadata": {},
   "outputs": [
    {
     "data": {
      "text/plain": [
       "(20, 20, 20)"
      ]
     },
     "execution_count": 12,
     "metadata": {},
     "output_type": "execute_result"
    }
   ],
   "source": [
    "len(vacantions), len(salaries), len(vacantion_list)"
   ]
  },
  {
   "cell_type": "code",
   "execution_count": 13,
   "id": "c48cd0b7",
   "metadata": {},
   "outputs": [],
   "source": [
    "for salary in salaries:\n",
    "    salary_data = {}\n",
    "    wage = salary.text\n",
    "    stroka = wage.replace(\"\\u202f\", \"\")\n",
    "    nums = re.findall(r'\\d+', stroka)\n",
    "    nums = [int(i) for i in nums]\n",
    "    valuta = re.findall(r'\\D+$', stroka)[0]\n",
    "    valuta = normalize('NFKD', valuta)\n",
    "    #salary_data['valuta'] = valuta\n",
    "    \n",
    "    if len(nums) == 2:\n",
    "        salary_data['salary_min'] = nums[0]\n",
    "        salary_data['salary_max'] = nums[1]\n",
    "        salary_data['valuta'] = valuta\n",
    "    elif len(nums) == 1 and stroka.find('от') == -1:\n",
    "        salary_data['salary_min'] = None\n",
    "        salary_data['salary_max'] = nums[0]\n",
    "        salary_data['valuta'] = valuta\n",
    "    elif len(nums) == 1 and stroka.find('до') == -1:\n",
    "        salary_data['salary_min'] = nums[0]\n",
    "        salary_data['salary_max'] = None\n",
    "        salary_data['valuta'] = valuta\n",
    "    else:\n",
    "        salary_data['salary_min'] = None\n",
    "        salary_data['salary_max'] = None\n",
    "        salary_data['valuta'] = valuta\n",
    "    \n",
    "    vacantion_list.append(salary_data)"
   ]
  },
  {
   "cell_type": "code",
   "execution_count": 14,
   "id": "21ac3642",
   "metadata": {},
   "outputs": [],
   "source": [
    "#salaries"
   ]
  },
  {
   "cell_type": "code",
   "execution_count": 15,
   "id": "7b5eefbf",
   "metadata": {},
   "outputs": [],
   "source": [
    "#vacantion_list"
   ]
  },
  {
   "cell_type": "code",
   "execution_count": 16,
   "id": "a7803827",
   "metadata": {},
   "outputs": [],
   "source": [
    "for i in range(int(len(vacantion_list))):\n",
    "    if i < int((len(vacantion_list))/2):\n",
    "        vacantion_list[i].update(vacantion_list[int(i+(int(len(vacantion_list)))/2)])"
   ]
  },
  {
   "cell_type": "code",
   "execution_count": 17,
   "id": "52f08032",
   "metadata": {},
   "outputs": [],
   "source": [
    "vacantion_list = vacantion_list[:int(len(vacantion_list)/2)]"
   ]
  },
  {
   "cell_type": "code",
   "execution_count": 18,
   "id": "29075883",
   "metadata": {},
   "outputs": [
    {
     "data": {
      "text/plain": [
       "20"
      ]
     },
     "execution_count": 18,
     "metadata": {},
     "output_type": "execute_result"
    }
   ],
   "source": [
    "len(vacantion_list)"
   ]
  },
  {
   "cell_type": "code",
   "execution_count": 19,
   "id": "fa31182e",
   "metadata": {},
   "outputs": [
    {
     "data": {
      "text/plain": [
       "[{'name': 'Менеджер по продажам (удаленно)',\n",
       "  'link': 'https://barnaul.hh.ru/vacancy/49200200?from=vacancy_search_list&query=%D0%BC%D0%B5%D0%BD%D0%B5%D0%B4%D0%B6%D0%B5%D1%80',\n",
       "  'salary_min': 65000,\n",
       "  'salary_max': 125000,\n",
       "  'valuta': ' руб.'},\n",
       " {'name': 'Менеджер по работе с клиентами',\n",
       "  'link': 'https://barnaul.hh.ru/vacancy/49141640?from=vacancy_search_list&query=%D0%BC%D0%B5%D0%BD%D0%B5%D0%B4%D0%B6%D0%B5%D1%80',\n",
       "  'salary_min': 1700,\n",
       "  'salary_max': 2500,\n",
       "  'valuta': ' бел. руб.'},\n",
       " {'name': 'Менеджер по продажам',\n",
       "  'link': 'https://barnaul.hh.ru/vacancy/46875758?from=vacancy_search_list&query=%D0%BC%D0%B5%D0%BD%D0%B5%D0%B4%D0%B6%D0%B5%D1%80',\n",
       "  'salary_min': 80000,\n",
       "  'salary_max': 250000,\n",
       "  'valuta': ' руб.'},\n",
       " {'name': 'Менеджер по продажам',\n",
       "  'link': 'https://barnaul.hh.ru/vacancy/49172204?from=vacancy_search_list&query=%D0%BC%D0%B5%D0%BD%D0%B5%D0%B4%D0%B6%D0%B5%D1%80',\n",
       "  'salary_min': 50000,\n",
       "  'salary_max': 120000,\n",
       "  'valuta': ' руб.'},\n",
       " {'name': 'Менеджер',\n",
       "  'link': 'https://barnaul.hh.ru/vacancy/49165784?from=vacancy_search_list&query=%D0%BC%D0%B5%D0%BD%D0%B5%D0%B4%D0%B6%D0%B5%D1%80',\n",
       "  'salary_min': 32000,\n",
       "  'salary_max': None,\n",
       "  'valuta': ' руб.'},\n",
       " {'name': 'Менеджер',\n",
       "  'link': 'https://barnaul.hh.ru/vacancy/49076668?from=vacancy_search_list&query=%D0%BC%D0%B5%D0%BD%D0%B5%D0%B4%D0%B6%D0%B5%D1%80',\n",
       "  'salary_min': 110000,\n",
       "  'salary_max': None,\n",
       "  'valuta': ' руб.'},\n",
       " {'name': 'Менеджер по продажам',\n",
       "  'link': 'https://barnaul.hh.ru/vacancy/49071704?from=vacancy_search_list&query=%D0%BC%D0%B5%D0%BD%D0%B5%D0%B4%D0%B6%D0%B5%D1%80',\n",
       "  'salary_min': 80000,\n",
       "  'salary_max': 200000,\n",
       "  'valuta': ' руб.'},\n",
       " {'name': 'Менеджер по работе с клиентами',\n",
       "  'link': 'https://barnaul.hh.ru/vacancy/48889883?from=vacancy_search_list&query=%D0%BC%D0%B5%D0%BD%D0%B5%D0%B4%D0%B6%D0%B5%D1%80',\n",
       "  'salary_min': 4000,\n",
       "  'salary_max': 8000,\n",
       "  'valuta': ' USD'},\n",
       " {'name': 'Менеджер по работе с клиентами',\n",
       "  'link': 'https://barnaul.hh.ru/vacancy/49165144?from=vacancy_search_list&query=%D0%BC%D0%B5%D0%BD%D0%B5%D0%B4%D0%B6%D0%B5%D1%80',\n",
       "  'salary_min': 120000,\n",
       "  'salary_max': 1200000,\n",
       "  'valuta': ' руб.'},\n",
       " {'name': 'Менеджер по работе с клиентами',\n",
       "  'link': 'https://barnaul.hh.ru/vacancy/49090066?from=vacancy_search_list&query=%D0%BC%D0%B5%D0%BD%D0%B5%D0%B4%D0%B6%D0%B5%D1%80',\n",
       "  'salary_min': 12000,\n",
       "  'salary_max': 75000,\n",
       "  'valuta': ' руб.'},\n",
       " {'name': 'Менеджер по работе с клиентами',\n",
       "  'link': 'https://barnaul.hh.ru/vacancy/49173570?from=vacancy_search_list&query=%D0%BC%D0%B5%D0%BD%D0%B5%D0%B4%D0%B6%D0%B5%D1%80',\n",
       "  'salary_min': 6000,\n",
       "  'salary_max': None,\n",
       "  'valuta': ' USD'},\n",
       " {'name': 'Менеджер по работе с клиентами',\n",
       "  'link': 'https://barnaul.hh.ru/vacancy/49126252?from=vacancy_search_list&query=%D0%BC%D0%B5%D0%BD%D0%B5%D0%B4%D0%B6%D0%B5%D1%80',\n",
       "  'salary_min': None,\n",
       "  'salary_max': 200000,\n",
       "  'valuta': ' руб.'},\n",
       " {'name': 'Менеджер',\n",
       "  'link': 'https://barnaul.hh.ru/vacancy/49079116?from=vacancy_search_list&query=%D0%BC%D0%B5%D0%BD%D0%B5%D0%B4%D0%B6%D0%B5%D1%80',\n",
       "  'salary_min': 25000,\n",
       "  'salary_max': None,\n",
       "  'valuta': ' руб.'},\n",
       " {'name': 'Менеджер по продажам',\n",
       "  'link': 'https://barnaul.hh.ru/vacancy/48518570?from=vacancy_search_list&query=%D0%BC%D0%B5%D0%BD%D0%B5%D0%B4%D0%B6%D0%B5%D1%80',\n",
       "  'salary_min': 416000,\n",
       "  'salary_max': None,\n",
       "  'valuta': ' руб.'},\n",
       " {'name': 'Менеджер по продажам',\n",
       "  'link': 'https://barnaul.hh.ru/vacancy/47131173?from=vacancy_search_list&query=%D0%BC%D0%B5%D0%BD%D0%B5%D0%B4%D0%B6%D0%B5%D1%80',\n",
       "  'salary_min': None,\n",
       "  'salary_max': 300000,\n",
       "  'valuta': ' руб.'},\n",
       " {'name': 'Менеджер по продажам',\n",
       "  'link': 'https://barnaul.hh.ru/vacancy/48959245?from=vacancy_search_list&query=%D0%BC%D0%B5%D0%BD%D0%B5%D0%B4%D0%B6%D0%B5%D1%80',\n",
       "  'salary_min': 150000,\n",
       "  'salary_max': None,\n",
       "  'valuta': ' руб.'},\n",
       " {'name': 'Менеджер по продажам',\n",
       "  'link': 'https://barnaul.hh.ru/vacancy/46477428?from=vacancy_search_list&query=%D0%BC%D0%B5%D0%BD%D0%B5%D0%B4%D0%B6%D0%B5%D1%80',\n",
       "  'salary_min': 100000,\n",
       "  'salary_max': 350000,\n",
       "  'valuta': ' руб.'},\n",
       " {'name': 'Менеджер',\n",
       "  'link': 'https://barnaul.hh.ru/vacancy/48693624?from=vacancy_search_list&query=%D0%BC%D0%B5%D0%BD%D0%B5%D0%B4%D0%B6%D0%B5%D1%80',\n",
       "  'salary_min': 85000,\n",
       "  'salary_max': 95000,\n",
       "  'valuta': ' руб.'},\n",
       " {'name': 'Менеджер',\n",
       "  'link': 'https://barnaul.hh.ru/vacancy/48836052?from=vacancy_search_list&query=%D0%BC%D0%B5%D0%BD%D0%B5%D0%B4%D0%B6%D0%B5%D1%80',\n",
       "  'salary_min': 80000,\n",
       "  'salary_max': None,\n",
       "  'valuta': ' руб.'},\n",
       " {'name': 'Менеджер по работе с клиентами b2b',\n",
       "  'link': 'https://barnaul.hh.ru/vacancy/45686271?from=vacancy_search_list&query=%D0%BC%D0%B5%D0%BD%D0%B5%D0%B4%D0%B6%D0%B5%D1%80',\n",
       "  'salary_min': 100000,\n",
       "  'salary_max': 350000,\n",
       "  'valuta': ' руб.'}]"
      ]
     },
     "execution_count": 19,
     "metadata": {},
     "output_type": "execute_result"
    }
   ],
   "source": [
    "vacantion_list"
   ]
  },
  {
   "cell_type": "code",
   "execution_count": 20,
   "id": "8cb11f3e",
   "metadata": {},
   "outputs": [],
   "source": [
    "with open('2.1.json', 'w') as write_f:\n",
    "    json.dump(vacantion_list, write_f)"
   ]
  },
  {
   "cell_type": "code",
   "execution_count": 38,
   "id": "968af7cc",
   "metadata": {},
   "outputs": [],
   "source": [
    "df = pd.DataFrame(vacantion_list)"
   ]
  },
  {
   "cell_type": "code",
   "execution_count": 39,
   "id": "a5cc7dd2",
   "metadata": {},
   "outputs": [],
   "source": [
    "pd.set_option('display.max_columns', None)"
   ]
  },
  {
   "cell_type": "code",
   "execution_count": 42,
   "id": "4cbd10b3",
   "metadata": {},
   "outputs": [],
   "source": [
    "pd.set_option('max_colwidth', 110)"
   ]
  },
  {
   "cell_type": "code",
   "execution_count": 41,
   "id": "70e89a33",
   "metadata": {},
   "outputs": [
    {
     "data": {
      "text/html": [
       "<div>\n",
       "<style scoped>\n",
       "    .dataframe tbody tr th:only-of-type {\n",
       "        vertical-align: middle;\n",
       "    }\n",
       "\n",
       "    .dataframe tbody tr th {\n",
       "        vertical-align: top;\n",
       "    }\n",
       "\n",
       "    .dataframe thead th {\n",
       "        text-align: right;\n",
       "    }\n",
       "</style>\n",
       "<table border=\"1\" class=\"dataframe\">\n",
       "  <thead>\n",
       "    <tr style=\"text-align: right;\">\n",
       "      <th></th>\n",
       "      <th>name</th>\n",
       "      <th>link</th>\n",
       "      <th>salary_min</th>\n",
       "      <th>salary_max</th>\n",
       "      <th>valuta</th>\n",
       "    </tr>\n",
       "  </thead>\n",
       "  <tbody>\n",
       "    <tr>\n",
       "      <th>0</th>\n",
       "      <td>Менеджер по продажам (удаленно)</td>\n",
       "      <td>https://barnaul.hh.ru/vacancy/49200200?from=vacancy_search_list&amp;query=%D0%BC%D0%B5%D0%BD%D0%B5%D0%B4%D0%B6%D0%B5%D1%80</td>\n",
       "      <td>65000.0</td>\n",
       "      <td>125000.0</td>\n",
       "      <td>руб.</td>\n",
       "    </tr>\n",
       "    <tr>\n",
       "      <th>1</th>\n",
       "      <td>Менеджер по работе с клиентами</td>\n",
       "      <td>https://barnaul.hh.ru/vacancy/49141640?from=vacancy_search_list&amp;query=%D0%BC%D0%B5%D0%BD%D0%B5%D0%B4%D0%B6%D0%B5%D1%80</td>\n",
       "      <td>1700.0</td>\n",
       "      <td>2500.0</td>\n",
       "      <td>бел. руб.</td>\n",
       "    </tr>\n",
       "    <tr>\n",
       "      <th>2</th>\n",
       "      <td>Менеджер по продажам</td>\n",
       "      <td>https://barnaul.hh.ru/vacancy/46875758?from=vacancy_search_list&amp;query=%D0%BC%D0%B5%D0%BD%D0%B5%D0%B4%D0%B6%D0%B5%D1%80</td>\n",
       "      <td>80000.0</td>\n",
       "      <td>250000.0</td>\n",
       "      <td>руб.</td>\n",
       "    </tr>\n",
       "    <tr>\n",
       "      <th>3</th>\n",
       "      <td>Менеджер по продажам</td>\n",
       "      <td>https://barnaul.hh.ru/vacancy/49172204?from=vacancy_search_list&amp;query=%D0%BC%D0%B5%D0%BD%D0%B5%D0%B4%D0%B6%D0%B5%D1%80</td>\n",
       "      <td>50000.0</td>\n",
       "      <td>120000.0</td>\n",
       "      <td>руб.</td>\n",
       "    </tr>\n",
       "    <tr>\n",
       "      <th>4</th>\n",
       "      <td>Менеджер</td>\n",
       "      <td>https://barnaul.hh.ru/vacancy/49165784?from=vacancy_search_list&amp;query=%D0%BC%D0%B5%D0%BD%D0%B5%D0%B4%D0%B6%D0%B5%D1%80</td>\n",
       "      <td>32000.0</td>\n",
       "      <td>NaN</td>\n",
       "      <td>руб.</td>\n",
       "    </tr>\n",
       "    <tr>\n",
       "      <th>5</th>\n",
       "      <td>Менеджер</td>\n",
       "      <td>https://barnaul.hh.ru/vacancy/49076668?from=vacancy_search_list&amp;query=%D0%BC%D0%B5%D0%BD%D0%B5%D0%B4%D0%B6%D0%B5%D1%80</td>\n",
       "      <td>110000.0</td>\n",
       "      <td>NaN</td>\n",
       "      <td>руб.</td>\n",
       "    </tr>\n",
       "    <tr>\n",
       "      <th>6</th>\n",
       "      <td>Менеджер по продажам</td>\n",
       "      <td>https://barnaul.hh.ru/vacancy/49071704?from=vacancy_search_list&amp;query=%D0%BC%D0%B5%D0%BD%D0%B5%D0%B4%D0%B6%D0%B5%D1%80</td>\n",
       "      <td>80000.0</td>\n",
       "      <td>200000.0</td>\n",
       "      <td>руб.</td>\n",
       "    </tr>\n",
       "    <tr>\n",
       "      <th>7</th>\n",
       "      <td>Менеджер по работе с клиентами</td>\n",
       "      <td>https://barnaul.hh.ru/vacancy/48889883?from=vacancy_search_list&amp;query=%D0%BC%D0%B5%D0%BD%D0%B5%D0%B4%D0%B6%D0%B5%D1%80</td>\n",
       "      <td>4000.0</td>\n",
       "      <td>8000.0</td>\n",
       "      <td>USD</td>\n",
       "    </tr>\n",
       "    <tr>\n",
       "      <th>8</th>\n",
       "      <td>Менеджер по работе с клиентами</td>\n",
       "      <td>https://barnaul.hh.ru/vacancy/49165144?from=vacancy_search_list&amp;query=%D0%BC%D0%B5%D0%BD%D0%B5%D0%B4%D0%B6%D0%B5%D1%80</td>\n",
       "      <td>120000.0</td>\n",
       "      <td>1200000.0</td>\n",
       "      <td>руб.</td>\n",
       "    </tr>\n",
       "    <tr>\n",
       "      <th>9</th>\n",
       "      <td>Менеджер по работе с клиентами</td>\n",
       "      <td>https://barnaul.hh.ru/vacancy/49090066?from=vacancy_search_list&amp;query=%D0%BC%D0%B5%D0%BD%D0%B5%D0%B4%D0%B6%D0%B5%D1%80</td>\n",
       "      <td>12000.0</td>\n",
       "      <td>75000.0</td>\n",
       "      <td>руб.</td>\n",
       "    </tr>\n",
       "    <tr>\n",
       "      <th>10</th>\n",
       "      <td>Менеджер по работе с клиентами</td>\n",
       "      <td>https://barnaul.hh.ru/vacancy/49173570?from=vacancy_search_list&amp;query=%D0%BC%D0%B5%D0%BD%D0%B5%D0%B4%D0%B6%D0%B5%D1%80</td>\n",
       "      <td>6000.0</td>\n",
       "      <td>NaN</td>\n",
       "      <td>USD</td>\n",
       "    </tr>\n",
       "    <tr>\n",
       "      <th>11</th>\n",
       "      <td>Менеджер по работе с клиентами</td>\n",
       "      <td>https://barnaul.hh.ru/vacancy/49126252?from=vacancy_search_list&amp;query=%D0%BC%D0%B5%D0%BD%D0%B5%D0%B4%D0%B6%D0%B5%D1%80</td>\n",
       "      <td>NaN</td>\n",
       "      <td>200000.0</td>\n",
       "      <td>руб.</td>\n",
       "    </tr>\n",
       "    <tr>\n",
       "      <th>12</th>\n",
       "      <td>Менеджер</td>\n",
       "      <td>https://barnaul.hh.ru/vacancy/49079116?from=vacancy_search_list&amp;query=%D0%BC%D0%B5%D0%BD%D0%B5%D0%B4%D0%B6%D0%B5%D1%80</td>\n",
       "      <td>25000.0</td>\n",
       "      <td>NaN</td>\n",
       "      <td>руб.</td>\n",
       "    </tr>\n",
       "    <tr>\n",
       "      <th>13</th>\n",
       "      <td>Менеджер по продажам</td>\n",
       "      <td>https://barnaul.hh.ru/vacancy/48518570?from=vacancy_search_list&amp;query=%D0%BC%D0%B5%D0%BD%D0%B5%D0%B4%D0%B6%D0%B5%D1%80</td>\n",
       "      <td>416000.0</td>\n",
       "      <td>NaN</td>\n",
       "      <td>руб.</td>\n",
       "    </tr>\n",
       "    <tr>\n",
       "      <th>14</th>\n",
       "      <td>Менеджер по продажам</td>\n",
       "      <td>https://barnaul.hh.ru/vacancy/47131173?from=vacancy_search_list&amp;query=%D0%BC%D0%B5%D0%BD%D0%B5%D0%B4%D0%B6%D0%B5%D1%80</td>\n",
       "      <td>NaN</td>\n",
       "      <td>300000.0</td>\n",
       "      <td>руб.</td>\n",
       "    </tr>\n",
       "    <tr>\n",
       "      <th>15</th>\n",
       "      <td>Менеджер по продажам</td>\n",
       "      <td>https://barnaul.hh.ru/vacancy/48959245?from=vacancy_search_list&amp;query=%D0%BC%D0%B5%D0%BD%D0%B5%D0%B4%D0%B6%D0%B5%D1%80</td>\n",
       "      <td>150000.0</td>\n",
       "      <td>NaN</td>\n",
       "      <td>руб.</td>\n",
       "    </tr>\n",
       "    <tr>\n",
       "      <th>16</th>\n",
       "      <td>Менеджер по продажам</td>\n",
       "      <td>https://barnaul.hh.ru/vacancy/46477428?from=vacancy_search_list&amp;query=%D0%BC%D0%B5%D0%BD%D0%B5%D0%B4%D0%B6%D0%B5%D1%80</td>\n",
       "      <td>100000.0</td>\n",
       "      <td>350000.0</td>\n",
       "      <td>руб.</td>\n",
       "    </tr>\n",
       "    <tr>\n",
       "      <th>17</th>\n",
       "      <td>Менеджер</td>\n",
       "      <td>https://barnaul.hh.ru/vacancy/48693624?from=vacancy_search_list&amp;query=%D0%BC%D0%B5%D0%BD%D0%B5%D0%B4%D0%B6%D0%B5%D1%80</td>\n",
       "      <td>85000.0</td>\n",
       "      <td>95000.0</td>\n",
       "      <td>руб.</td>\n",
       "    </tr>\n",
       "    <tr>\n",
       "      <th>18</th>\n",
       "      <td>Менеджер</td>\n",
       "      <td>https://barnaul.hh.ru/vacancy/48836052?from=vacancy_search_list&amp;query=%D0%BC%D0%B5%D0%BD%D0%B5%D0%B4%D0%B6%D0%B5%D1%80</td>\n",
       "      <td>80000.0</td>\n",
       "      <td>NaN</td>\n",
       "      <td>руб.</td>\n",
       "    </tr>\n",
       "    <tr>\n",
       "      <th>19</th>\n",
       "      <td>Менеджер по работе с клиентами b2b</td>\n",
       "      <td>https://barnaul.hh.ru/vacancy/45686271?from=vacancy_search_list&amp;query=%D0%BC%D0%B5%D0%BD%D0%B5%D0%B4%D0%B6%D0%B5%D1%80</td>\n",
       "      <td>100000.0</td>\n",
       "      <td>350000.0</td>\n",
       "      <td>руб.</td>\n",
       "    </tr>\n",
       "  </tbody>\n",
       "</table>\n",
       "</div>"
      ],
      "text/plain": [
       "                                  name  \\\n",
       "0      Менеджер по продажам (удаленно)   \n",
       "1       Менеджер по работе с клиентами   \n",
       "2                 Менеджер по продажам   \n",
       "3                 Менеджер по продажам   \n",
       "4                             Менеджер   \n",
       "5                             Менеджер   \n",
       "6                 Менеджер по продажам   \n",
       "7       Менеджер по работе с клиентами   \n",
       "8       Менеджер по работе с клиентами   \n",
       "9       Менеджер по работе с клиентами   \n",
       "10      Менеджер по работе с клиентами   \n",
       "11      Менеджер по работе с клиентами   \n",
       "12                            Менеджер   \n",
       "13                Менеджер по продажам   \n",
       "14                Менеджер по продажам   \n",
       "15                Менеджер по продажам   \n",
       "16                Менеджер по продажам   \n",
       "17                            Менеджер   \n",
       "18                            Менеджер   \n",
       "19  Менеджер по работе с клиентами b2b   \n",
       "\n",
       "                                                                                                                      link  \\\n",
       "0   https://barnaul.hh.ru/vacancy/49200200?from=vacancy_search_list&query=%D0%BC%D0%B5%D0%BD%D0%B5%D0%B4%D0%B6%D0%B5%D1%80   \n",
       "1   https://barnaul.hh.ru/vacancy/49141640?from=vacancy_search_list&query=%D0%BC%D0%B5%D0%BD%D0%B5%D0%B4%D0%B6%D0%B5%D1%80   \n",
       "2   https://barnaul.hh.ru/vacancy/46875758?from=vacancy_search_list&query=%D0%BC%D0%B5%D0%BD%D0%B5%D0%B4%D0%B6%D0%B5%D1%80   \n",
       "3   https://barnaul.hh.ru/vacancy/49172204?from=vacancy_search_list&query=%D0%BC%D0%B5%D0%BD%D0%B5%D0%B4%D0%B6%D0%B5%D1%80   \n",
       "4   https://barnaul.hh.ru/vacancy/49165784?from=vacancy_search_list&query=%D0%BC%D0%B5%D0%BD%D0%B5%D0%B4%D0%B6%D0%B5%D1%80   \n",
       "5   https://barnaul.hh.ru/vacancy/49076668?from=vacancy_search_list&query=%D0%BC%D0%B5%D0%BD%D0%B5%D0%B4%D0%B6%D0%B5%D1%80   \n",
       "6   https://barnaul.hh.ru/vacancy/49071704?from=vacancy_search_list&query=%D0%BC%D0%B5%D0%BD%D0%B5%D0%B4%D0%B6%D0%B5%D1%80   \n",
       "7   https://barnaul.hh.ru/vacancy/48889883?from=vacancy_search_list&query=%D0%BC%D0%B5%D0%BD%D0%B5%D0%B4%D0%B6%D0%B5%D1%80   \n",
       "8   https://barnaul.hh.ru/vacancy/49165144?from=vacancy_search_list&query=%D0%BC%D0%B5%D0%BD%D0%B5%D0%B4%D0%B6%D0%B5%D1%80   \n",
       "9   https://barnaul.hh.ru/vacancy/49090066?from=vacancy_search_list&query=%D0%BC%D0%B5%D0%BD%D0%B5%D0%B4%D0%B6%D0%B5%D1%80   \n",
       "10  https://barnaul.hh.ru/vacancy/49173570?from=vacancy_search_list&query=%D0%BC%D0%B5%D0%BD%D0%B5%D0%B4%D0%B6%D0%B5%D1%80   \n",
       "11  https://barnaul.hh.ru/vacancy/49126252?from=vacancy_search_list&query=%D0%BC%D0%B5%D0%BD%D0%B5%D0%B4%D0%B6%D0%B5%D1%80   \n",
       "12  https://barnaul.hh.ru/vacancy/49079116?from=vacancy_search_list&query=%D0%BC%D0%B5%D0%BD%D0%B5%D0%B4%D0%B6%D0%B5%D1%80   \n",
       "13  https://barnaul.hh.ru/vacancy/48518570?from=vacancy_search_list&query=%D0%BC%D0%B5%D0%BD%D0%B5%D0%B4%D0%B6%D0%B5%D1%80   \n",
       "14  https://barnaul.hh.ru/vacancy/47131173?from=vacancy_search_list&query=%D0%BC%D0%B5%D0%BD%D0%B5%D0%B4%D0%B6%D0%B5%D1%80   \n",
       "15  https://barnaul.hh.ru/vacancy/48959245?from=vacancy_search_list&query=%D0%BC%D0%B5%D0%BD%D0%B5%D0%B4%D0%B6%D0%B5%D1%80   \n",
       "16  https://barnaul.hh.ru/vacancy/46477428?from=vacancy_search_list&query=%D0%BC%D0%B5%D0%BD%D0%B5%D0%B4%D0%B6%D0%B5%D1%80   \n",
       "17  https://barnaul.hh.ru/vacancy/48693624?from=vacancy_search_list&query=%D0%BC%D0%B5%D0%BD%D0%B5%D0%B4%D0%B6%D0%B5%D1%80   \n",
       "18  https://barnaul.hh.ru/vacancy/48836052?from=vacancy_search_list&query=%D0%BC%D0%B5%D0%BD%D0%B5%D0%B4%D0%B6%D0%B5%D1%80   \n",
       "19  https://barnaul.hh.ru/vacancy/45686271?from=vacancy_search_list&query=%D0%BC%D0%B5%D0%BD%D0%B5%D0%B4%D0%B6%D0%B5%D1%80   \n",
       "\n",
       "    salary_min  salary_max      valuta  \n",
       "0      65000.0    125000.0        руб.  \n",
       "1       1700.0      2500.0   бел. руб.  \n",
       "2      80000.0    250000.0        руб.  \n",
       "3      50000.0    120000.0        руб.  \n",
       "4      32000.0         NaN        руб.  \n",
       "5     110000.0         NaN        руб.  \n",
       "6      80000.0    200000.0        руб.  \n",
       "7       4000.0      8000.0         USD  \n",
       "8     120000.0   1200000.0        руб.  \n",
       "9      12000.0     75000.0        руб.  \n",
       "10      6000.0         NaN         USD  \n",
       "11         NaN    200000.0        руб.  \n",
       "12     25000.0         NaN        руб.  \n",
       "13    416000.0         NaN        руб.  \n",
       "14         NaN    300000.0        руб.  \n",
       "15    150000.0         NaN        руб.  \n",
       "16    100000.0    350000.0        руб.  \n",
       "17     85000.0     95000.0        руб.  \n",
       "18     80000.0         NaN        руб.  \n",
       "19    100000.0    350000.0        руб.  "
      ]
     },
     "execution_count": 41,
     "metadata": {},
     "output_type": "execute_result"
    }
   ],
   "source": [
    "df"
   ]
  },
  {
   "cell_type": "code",
   "execution_count": null,
   "id": "496b0a08",
   "metadata": {},
   "outputs": [],
   "source": []
  }
 ],
 "metadata": {
  "kernelspec": {
   "display_name": "Python 3",
   "language": "python",
   "name": "python3"
  },
  "language_info": {
   "codemirror_mode": {
    "name": "ipython",
    "version": 3
   },
   "file_extension": ".py",
   "mimetype": "text/x-python",
   "name": "python",
   "nbconvert_exporter": "python",
   "pygments_lexer": "ipython3",
   "version": "3.8.8"
  }
 },
 "nbformat": 4,
 "nbformat_minor": 5
}
