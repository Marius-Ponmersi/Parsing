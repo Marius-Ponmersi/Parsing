{
 "cells": [
  {
   "cell_type": "code",
   "execution_count": 1,
   "id": "e758df75",
   "metadata": {},
   "outputs": [],
   "source": [
    "import requests\n",
    "from bs4 import BeautifulSoup as bs\n",
    "from pprint import pprint\n",
    "import re\n",
    "from unicodedata import normalize\n",
    "import pandas as pd\n",
    "import json"
   ]
  },
  {
   "cell_type": "code",
   "execution_count": 2,
   "id": "2e1e0c43",
   "metadata": {},
   "outputs": [
    {
     "name": "stdout",
     "output_type": "stream",
     "text": [
      "Введите профессию: водитель\n"
     ]
    }
   ],
   "source": [
    "job = input(\"Введите профессию: \").encode('utf-8')"
   ]
  },
  {
   "cell_type": "code",
   "execution_count": 3,
   "id": "5c90c9be",
   "metadata": {},
   "outputs": [],
   "source": [
    "url = 'https://barnaul.hh.ru/search/vacancy'"
   ]
  },
  {
   "cell_type": "code",
   "execution_count": 4,
   "id": "0436a6a0",
   "metadata": {},
   "outputs": [],
   "source": [
    "page = 0"
   ]
  },
  {
   "cell_type": "code",
   "execution_count": 5,
   "id": "113351f7",
   "metadata": {},
   "outputs": [],
   "source": [
    "params = {'text': job,\n",
    "          'clusters': 'true',\n",
    "          'ored_clusters': 'true',\n",
    "          'enable_snippets': 'true',\n",
    "          'salary': '',\n",
    "          'page': page}\n",
    "\n",
    "headers = {'User-Agent': 'Mozilla/5.0 (Windows NT 10.0; Win64; x64) AppleWebKit/537.36 (KHTML, like Gecko) Chrome/94.0.4606.81 Safari/537.36'}"
   ]
  },
  {
   "cell_type": "code",
   "execution_count": 6,
   "id": "8fc85746",
   "metadata": {},
   "outputs": [],
   "source": [
    "response = requests.get(url, params=params, headers=headers)"
   ]
  },
  {
   "cell_type": "code",
   "execution_count": 7,
   "id": "61b546c3",
   "metadata": {},
   "outputs": [],
   "source": [
    "dom = bs(response.text, 'html.parser')"
   ]
  },
  {
   "cell_type": "code",
   "execution_count": 8,
   "id": "78cf1c6e",
   "metadata": {},
   "outputs": [],
   "source": [
    "vacantions = dom.find_all('div', {'class': 'vacancy-serp-item'})"
   ]
  },
  {
   "cell_type": "code",
   "execution_count": 9,
   "id": "16ef91e9",
   "metadata": {},
   "outputs": [],
   "source": [
    "vacantion_list = []"
   ]
  },
  {
   "cell_type": "code",
   "execution_count": 10,
   "id": "7940082e",
   "metadata": {},
   "outputs": [
    {
     "ename": "AttributeError",
     "evalue": "'NoneType' object has no attribute 'replace'",
     "output_type": "error",
     "traceback": [
      "\u001b[1;31m---------------------------------------------------------------------------\u001b[0m",
      "\u001b[1;31mAttributeError\u001b[0m                            Traceback (most recent call last)",
      "\u001b[1;32m<ipython-input-10-cdef0580eaf4>\u001b[0m in \u001b[0;36m<module>\u001b[1;34m\u001b[0m\n\u001b[0;32m     10\u001b[0m         \u001b[0msalary_info\u001b[0m \u001b[1;33m=\u001b[0m \u001b[0mvacantion\u001b[0m\u001b[1;33m.\u001b[0m\u001b[0mfind\u001b[0m\u001b[1;33m(\u001b[0m\u001b[1;34m'span'\u001b[0m\u001b[1;33m,\u001b[0m \u001b[1;33m{\u001b[0m\u001b[1;34m'data-qa'\u001b[0m\u001b[1;33m:\u001b[0m \u001b[1;34m\"vacancy-serp__vacancy-compensation\"\u001b[0m\u001b[1;33m}\u001b[0m\u001b[1;33m)\u001b[0m\u001b[1;33m\u001b[0m\u001b[1;33m\u001b[0m\u001b[0m\n\u001b[0;32m     11\u001b[0m         \u001b[0msalary\u001b[0m \u001b[1;33m=\u001b[0m \u001b[0msalary_info\u001b[0m\u001b[1;33m.\u001b[0m\u001b[0mcontent\u001b[0m\u001b[1;33m\u001b[0m\u001b[1;33m\u001b[0m\u001b[0m\n\u001b[1;32m---> 12\u001b[1;33m         \u001b[0mstroka\u001b[0m \u001b[1;33m=\u001b[0m \u001b[0msalary\u001b[0m\u001b[1;33m.\u001b[0m\u001b[0mreplace\u001b[0m\u001b[1;33m(\u001b[0m\u001b[1;34m\"\\u202f\"\u001b[0m\u001b[1;33m,\u001b[0m \u001b[1;34m\"\"\u001b[0m\u001b[1;33m)\u001b[0m\u001b[1;33m\u001b[0m\u001b[1;33m\u001b[0m\u001b[0m\n\u001b[0m\u001b[0;32m     13\u001b[0m         \u001b[0mnums\u001b[0m \u001b[1;33m=\u001b[0m \u001b[0mre\u001b[0m\u001b[1;33m.\u001b[0m\u001b[0mfindall\u001b[0m\u001b[1;33m(\u001b[0m\u001b[1;34mr'\\d+'\u001b[0m\u001b[1;33m,\u001b[0m \u001b[0mstroka\u001b[0m\u001b[1;33m)\u001b[0m\u001b[1;33m\u001b[0m\u001b[1;33m\u001b[0m\u001b[0m\n\u001b[0;32m     14\u001b[0m         \u001b[0mnums\u001b[0m \u001b[1;33m=\u001b[0m \u001b[1;33m[\u001b[0m\u001b[0mint\u001b[0m\u001b[1;33m(\u001b[0m\u001b[0mi\u001b[0m\u001b[1;33m)\u001b[0m \u001b[1;32mfor\u001b[0m \u001b[0mi\u001b[0m \u001b[1;32min\u001b[0m \u001b[0mnums\u001b[0m\u001b[1;33m]\u001b[0m\u001b[1;33m\u001b[0m\u001b[1;33m\u001b[0m\u001b[0m\n",
      "\u001b[1;31mAttributeError\u001b[0m: 'NoneType' object has no attribute 'replace'"
     ]
    }
   ],
   "source": [
    "if response.ok and vacantions:\n",
    "    for vacantion in vacantions:\n",
    "        vacantion_data = {}\n",
    "        info = vacantion.find('a', {'class': 'bloko-link', 'data-qa': 'vacancy-serp__vacancy-title'})\n",
    "        link = info['href']\n",
    "        name = info.string\n",
    "        vacantion_data['name'] = name\n",
    "        vacantion_data['link'] = link\n",
    "        \n",
    "        salary_info = vacantion.find('span', {'data-qa': \"vacancy-serp__vacancy-compensation\"})\n",
    "        salary = salary_info.content\n",
    "        stroka = salary.replace(\"\\u202f\", \"\")\n",
    "        nums = re.findall(r'\\d+', stroka)\n",
    "        nums = [int(i) for i in nums]\n",
    "        valuta = re.findall(r'\\D+$', stroka)[0]\n",
    "        valuta = normalize('NFKD', valuta)\n",
    "\n",
    "        if len(nums) == 2:\n",
    "            vacantion_data['salary_min'] = nums[0]\n",
    "            vacantion_data['salary_max'] = nums[1]\n",
    "            vacantion_data['valuta'] = valuta\n",
    "        elif len(nums) == 1 and stroka.find('от') == -1:\n",
    "            vacantion_data['salary_min'] = None\n",
    "            vacantion_data['salary_max'] = nums[0]\n",
    "            vacantion_data['valuta'] = valuta\n",
    "        elif len(nums) == 1 and stroka.find('до') == -1:\n",
    "            vacantion_data['salary_min'] = nums[0]\n",
    "            vacantion_data['salary_max'] = None\n",
    "            vacantion_data['valuta'] = valuta\n",
    "        else:\n",
    "            vacantion_data['salary_min'] = None\n",
    "            vacantion_data['salary_max'] = None\n",
    "            vacantion_data['valuta'] = valuta\n",
    "        \n",
    "        vacantion_list.append(vacantion_data)"
   ]
  },
  {
   "cell_type": "code",
   "execution_count": null,
   "id": "b508946f",
   "metadata": {},
   "outputs": [],
   "source": [
    "vacantion_list"
   ]
  },
  {
   "cell_type": "code",
   "execution_count": null,
   "id": "83ba2b5a",
   "metadata": {},
   "outputs": [],
   "source": [
    "with open('2.1.json', 'w') as write_f:\n",
    "    json.dump(vacantion_list, write_f)"
   ]
  },
  {
   "cell_type": "code",
   "execution_count": null,
   "id": "8de8fb69",
   "metadata": {},
   "outputs": [],
   "source": [
    "df = pd.DataFrame(vacantion_list)"
   ]
  },
  {
   "cell_type": "code",
   "execution_count": null,
   "id": "ed0d3c35",
   "metadata": {},
   "outputs": [],
   "source": [
    "df"
   ]
  },
  {
   "cell_type": "code",
   "execution_count": null,
   "id": "f232f7c1",
   "metadata": {},
   "outputs": [],
   "source": [
    "# <span data-qa=\"vacancy-serp__vacancy-compensation\" class=\"bloko-header-section-3 bloko-header-section-3_lite\">от 70 000 руб.</span>"
   ]
  }
 ],
 "metadata": {
  "kernelspec": {
   "display_name": "Python 3",
   "language": "python",
   "name": "python3"
  },
  "language_info": {
   "codemirror_mode": {
    "name": "ipython",
    "version": 3
   },
   "file_extension": ".py",
   "mimetype": "text/x-python",
   "name": "python",
   "nbconvert_exporter": "python",
   "pygments_lexer": "ipython3",
   "version": "3.8.8"
  }
 },
 "nbformat": 4,
 "nbformat_minor": 5
}
